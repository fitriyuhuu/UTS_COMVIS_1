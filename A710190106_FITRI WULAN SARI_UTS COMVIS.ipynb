{
  "cells": [
    {
      "cell_type": "markdown",
      "id": "8ee8d697",
      "metadata": {
        "id": "8ee8d697"
      },
      "source": [
        "# UJIAN TENGAH SEMESTER Computer Vision\n",
        "\n",
        "## Pertama-tama, ganti NIM di nama file ini. Klik <font color=\"red\">File -> Rename... </font>\n",
        "\n",
        "Lalu isi yang di bawah ini. Untuk mengedit cell ini, double-click di sini.\n",
        "### NAMA: ....\n",
        "### NIM: ...\n",
        "\n",
        "**CPMK**. Sesudah mengikuti dengan penuh matakuliah ini, mahasiswa diharapkan mampu:\n",
        "1. Mendemonstrasikan pemahaman konstruksi gambar grayscale, warna, dan biner.\n",
        "2. Mendemonstrasikan pemahaman colorspace RGB dan HSV dan pemanfaatannya di computer vision\n",
        "3. Memanipulasi gambar secara sederhana\n",
        "\n",
        "\n",
        "#### Lengkapi kode di bawah dan jalankan\n"
      ]
    },
    {
      "cell_type": "code",
      "execution_count": null,
      "id": "95237220",
      "metadata": {
        "id": "95237220"
      },
      "outputs": [],
      "source": [
        "from time import ctime\n",
        "from os import getcwd\n",
        "import sys\n",
        "nama = \"FITRI WULAN SARI\"        ## Ganti dengan namamu\n",
        "NIM = \"A710190106\"        ## Ganti dengan NIM-mu\n",
        "kota = \"REMBANG\"        ## Ganti dengan kotamu\n",
        "print(\"NAMA:\", nama)\n",
        "print(\"NIM :\", NIM)\n",
        "print(\"Kota:\", kota)\n",
        "print(ctime())\n",
        "print(\"\")\n",
        "print(getcwd())\n",
        "print(sys.executable)\n",
        "print(sys.version)"
      ]
    },
    {
      "cell_type": "markdown",
      "id": "89b763ab",
      "metadata": {
        "id": "89b763ab"
      },
      "source": [
        "##  Importing the libraries"
      ]
    },
    {
      "cell_type": "code",
      "execution_count": null,
      "id": "5dcf81cc",
      "metadata": {
        "id": "5dcf81cc"
      },
      "outputs": [],
      "source": [
        "import cv2\n",
        "import numpy as np\n",
        "import matplotlib.pyplot as plt\n",
        "%matplotlib inline\n",
        "from IPython.display import Image, Markdown\n",
        "\n",
        "cond = \"Jika ada tanda-tanda kecurangan, semisal kemiripan jawaban antar mahasiswa di suatu pertanyaan, \\\n",
        "maka hal itu dapat mengakibatkan nilai NOL di SEMUA pertanyaan (tidak peduli siapa yang aslinya mengerjakan). \\\n",
        "Jadi, buat jawabanmu lengkap (sehingga unik dan tidak mirip) dengan memberi comments yang cukup dan jangan \\\n",
        "dibagikan lewat cara apapun.\"\n",
        "setuju = \"Saya, FITRI WULAN SARI\" + nama.upper() + \", dengan ini bersaksi bahwa saya mengerjakan ujian ini tanpa interaksi \\\n",
        "dengan mahasiswa lain atau orang lain dan saya setuju dengan kondisi yang tertuang di atas.\"\n",
        "\n",
        "Markdown('<br><font size=\"4\">{}</font><br><br><font size=\"5\">{}</font>'.format(cond, setuju) )\n"
      ]
    },
    {
      "cell_type": "code",
      "execution_count": null,
      "id": "c1ce81c6",
      "metadata": {
        "id": "c1ce81c6"
      },
      "outputs": [],
      "source": [
        "Markdown('<br><br><br><br><div align=\"center\"><font size=\"7\">{}</font></div><br><br>'.format(chr(65021) ) )"
      ]
    },
    {
      "cell_type": "markdown",
      "id": "2b00c6ac",
      "metadata": {
        "id": "2b00c6ac"
      },
      "source": [
        "# 1 \n",
        "\n",
        "#### Score: 10, CPMK: 1\n",
        "Tampilkan file `hpinus.jpg` dengan perintah `Image()` dan perintah `plt.imshow()` pastikan keduanya menampilkan gambar yang sama dengan pewarnaan yang sama. Gambar hutan pinus di yogyakarta yang adem."
      ]
    },
    {
      "cell_type": "code",
      "execution_count": null,
      "id": "8cc55a97",
      "metadata": {
        "id": "8cc55a97"
      },
      "outputs": [],
      "source": [
        "import cv2\n",
        "import numpy as np\n",
        "import matplotlib.pyplot as plt\n",
        "%matplotlib inline\n",
        "from IPython.display import Image, Markdown"
      ]
    },
    {
      "cell_type": "markdown",
      "id": "b0289f9e",
      "metadata": {
        "id": "b0289f9e"
      },
      "source": [
        "#### Pertanyaan:\n",
        "Apa beda dua perintah itu? Mengapa perlu slicing pada yang kedua?\n",
        "\n",
        "#### Jawaban:\n",
        "karena untuk mengkonversi tampilan design web berupa gambar menjadi bagian-bagian yang kecil."
      ]
    },
    {
      "cell_type": "code",
      "source": [
        ""
      ],
      "metadata": {
        "id": "lL8OwE0_gSTJ"
      },
      "id": "lL8OwE0_gSTJ",
      "execution_count": null,
      "outputs": []
    },
    {
      "cell_type": "markdown",
      "id": "e35e0e92",
      "metadata": {
        "id": "e35e0e92"
      },
      "source": [
        "# 2\n",
        "\n",
        "#### Score: 10, CPMK: 1,2\n",
        "\n",
        "Ada tiga citra grayscale di folder ini: `Q.png`, `S.png`, dan `T.png`. Mohon di-merge agar menjadi citra tunggal yang berwarna. Warna harus natural dan tepat (langit harus biru, hutan hijau, dll).\n",
        "\n",
        "Tampilkan ketiga gambar itu, lalu tampilkan hasil merge-nya. Gambar menunjukkan Tawangmangu yang sejuk."
      ]
    },
    {
      "cell_type": "code",
      "execution_count": null,
      "id": "dfd76e7a",
      "metadata": {
        "id": "dfd76e7a"
      },
      "outputs": [],
      "source": [
        "# Kode ..."
      ]
    },
    {
      "cell_type": "markdown",
      "id": "0bc56cfd",
      "metadata": {
        "id": "0bc56cfd"
      },
      "source": [
        "#### Jawab yang berikut:\n",
        "Red channel adalah (Q atau S atau T?): S\n",
        "\n",
        "Green channel adalah: warna gambar harus hijau\n",
        "\n",
        "Blue channel adalah: warna gambar harus biru\n"
      ]
    },
    {
      "cell_type": "markdown",
      "id": "c9593710",
      "metadata": {
        "id": "c9593710"
      },
      "source": [
        "# 3\n",
        "#### Score: 10, CPMK: 1, 2\n",
        "Rupanya ada yang menyimpan gambar dengan terbalik-balik channel-nya. Coba buka `r4_tertukar_channel.jpg`. \n",
        "\n",
        "Tolong diperbaiki ya, lalu di-save sebagai `r4.jpg`. Dampingkan kedua gambar. Gambar akan menunjukkan Raja Ampat yang eksotik. Buka pula gambar yang sudah jadi dengan perintah `Image(\"r4.jpg\")`"
      ]
    },
    {
      "cell_type": "code",
      "execution_count": null,
      "id": "37b4f09a",
      "metadata": {
        "id": "37b4f09a"
      },
      "outputs": [],
      "source": [
        "# Kode ..."
      ]
    },
    {
      "cell_type": "markdown",
      "id": "991082c5",
      "metadata": {
        "id": "991082c5"
      },
      "source": [
        "# 4\n",
        "\n",
        "#### Score: 10, CPMK: 1, 2\n",
        "\n",
        "Gambar `aab_n.jpg` adalah gambar negative. Pixel (di semua channel) yang tadinya bernilai 255 jadi 0, yang tadinya 0 jadi 255. Yang tadinya bernilai 10, jadi bernilai 245 (yakni 255-10). Yang tadinya bernilai 240, jadi bernilai 15 (yakni 255-240). Yang hitam jadi putih, yang putih jadi hitam. Dan sebagainya.\n",
        "\n",
        "Ubahlah agar menjadi gambar yang positive. Save menjadi `aab_positive.jpg`, yang menggambarkan Alun-alun Bandung yang ramah dan positif!\n",
        "\n",
        "Kamu hanya perlu satu baris perintah untuk membaliknya.\n",
        "\n"
      ]
    },
    {
      "cell_type": "code",
      "execution_count": null,
      "id": "c5f20269",
      "metadata": {
        "id": "c5f20269"
      },
      "outputs": [],
      "source": [
        "# Kode ..."
      ]
    },
    {
      "cell_type": "markdown",
      "id": "eab55aea",
      "metadata": {
        "id": "eab55aea"
      },
      "source": [
        "# 5\n",
        "\n",
        "\n",
        "#### Score: 10, CPMK: 3\n",
        "\n",
        "Pada gambar sebuah jalan di Tawangmangu di atas, tutuplah mobil putih paling depan (di sisi kanan bawah) dengan kotak warna Tosca. \n",
        "\n",
        "Warna \"Tosca\" dapat dicari di internet.\n"
      ]
    },
    {
      "cell_type": "code",
      "execution_count": null,
      "id": "39145d30",
      "metadata": {
        "id": "39145d30"
      },
      "outputs": [],
      "source": [
        "# Kode ..."
      ]
    },
    {
      "cell_type": "markdown",
      "id": "47cfabb1",
      "metadata": {
        "id": "47cfabb1"
      },
      "source": [
        "# 6\n",
        "\n",
        "#### Score: 10, CPMK: 3\n",
        "\n",
        "Pada gambar hutan pinus yogyakarta di atas, berilah kotak kuning pada dua orang yang sedang berjalan-jalan di situ. Beri keterangan di bawahnya, misal \"dua orang sedang berjalan-jalan\"."
      ]
    },
    {
      "cell_type": "code",
      "execution_count": null,
      "id": "4fa7f270",
      "metadata": {
        "id": "4fa7f270"
      },
      "outputs": [],
      "source": [
        "# Kode ...\n"
      ]
    },
    {
      "cell_type": "markdown",
      "id": "60477998",
      "metadata": {
        "id": "60477998"
      },
      "source": [
        "# 7\n",
        "\n",
        "#### Score: 10, CPMK: 3\n",
        "\n",
        "Pada gambar `tomat_jeruk.jpg`, buatlah sebuah filter untuk menangkap tomat-nya saja. Tentunya akan lebih mudah kalau kamu membuka dengan colorspace HSV."
      ]
    },
    {
      "cell_type": "code",
      "execution_count": null,
      "id": "5de2bfae",
      "metadata": {
        "id": "5de2bfae"
      },
      "outputs": [],
      "source": [
        "# Kode ..."
      ]
    },
    {
      "cell_type": "markdown",
      "id": "1d5b0667",
      "metadata": {
        "id": "1d5b0667"
      },
      "source": [
        "#### Pertanyaan:\n",
        "Mengapa untuk tugas semacam ini, colorspace HSV lebih cocok daripada colorspace RGB (atau BGR)?\n",
        "#### Jawaban:\n",
        "karena Keuntungan HSV adalah terdapat warna-warna yang sama dengan yang ditangkap oleh indra manusia. Sedangkan warna yang dibentuk model lain seperti RGB merupakan hasil campuran dari warna-warna primer."
      ]
    },
    {
      "cell_type": "markdown",
      "id": "cfffa391",
      "metadata": {
        "id": "cfffa391"
      },
      "source": [
        "# 8\n",
        "\n",
        "\n",
        "#### Score: 15, CPMK: 3\n",
        "\n",
        "Pada gambar hutan pinus di atas, beri judul transparent dengan file dari `hpkuning.jpg`. Kamu harus membalik tulisannya agar tegak dan terbaca kiri ke kanan dengan jelas!\n",
        "\n",
        "Campur (*blend*) kedua gambar di atas dengan ketentuan:\n",
        "- Gambar hutan pinus bobot 1\n",
        "- Gambar tulisan kuning bobot 0.3, tulisan kuning akan terlihat samar. \n",
        "  - Ketentuan letak: pojok tulisan kiri atas bergabung di pixel (40, 40) gambar utama, dan berakhir 40 pixel dari kanan. Tulisan akan tampak simetris di tengah-atas. Jadi kamu harus menyesuaikan ukurannya. Saat penyesuaian ukuran, aspect ratio tidak boleh berubah.\n",
        "  "
      ]
    },
    {
      "cell_type": "code",
      "execution_count": null,
      "id": "a51fd275",
      "metadata": {
        "id": "a51fd275"
      },
      "outputs": [],
      "source": [
        "# Kode ..."
      ]
    },
    {
      "cell_type": "markdown",
      "id": "689d26f1",
      "metadata": {
        "id": "689d26f1"
      },
      "source": [
        "# 9\n",
        "\n",
        "\n",
        "#### Score: 15, CPMK: 3\n",
        "\n",
        "Masih dengan gambar hutan pinus, buatlah gambar hutan pinus itu sebagai background. Buka gambar `pti_2022.png`. Putar dan cerminkan, jadikan tulisan kuningnya menjadi \"bolong\". \n",
        "\n",
        "Tempelkan tulisan yang bolong itu ke gambar utama, sehingga sebagian hutan pinus terlihat lewat out-line tulisan.  Buat agar ukuran tulisan bisa fit ke gambar hutan pinus, dengan tidak mengorbankan aspect ratio. Kemungkinan akan ada strip sisa gambar atas dan bawah. Buat agar simetris.\n",
        "\n",
        "Prosesnya mirip seperti di bawah ini."
      ]
    },
    {
      "cell_type": "code",
      "execution_count": null,
      "id": "405240a8",
      "metadata": {
        "id": "405240a8"
      },
      "outputs": [],
      "source": [
        "Image(\"Logo_Manipulation.png\")"
      ]
    },
    {
      "cell_type": "code",
      "execution_count": null,
      "id": "810a9cf8",
      "metadata": {
        "id": "810a9cf8"
      },
      "outputs": [],
      "source": [
        "# Kode ..."
      ]
    },
    {
      "cell_type": "markdown",
      "id": "b86fa593",
      "metadata": {
        "id": "b86fa593"
      },
      "source": [
        "##### ----- Akhir UTS"
      ]
    },
    {
      "cell_type": "markdown",
      "id": "8fe2d5e2",
      "metadata": {
        "id": "8fe2d5e2"
      },
      "source": [
        "**PUSH to GitHub**"
      ]
    },
    {
      "cell_type": "code",
      "execution_count": null,
      "id": "41bd7000",
      "metadata": {
        "id": "41bd7000"
      },
      "outputs": [],
      "source": [
        ""
      ]
    }
  ],
  "metadata": {
    "kernelspec": {
      "display_name": "Python 3 (ipykernel)",
      "language": "python",
      "name": "python3"
    },
    "language_info": {
      "codemirror_mode": {
        "name": "ipython",
        "version": 3
      },
      "file_extension": ".py",
      "mimetype": "text/x-python",
      "name": "python",
      "nbconvert_exporter": "python",
      "pygments_lexer": "ipython3",
      "version": "3.9.6"
    },
    "colab": {
      "name": "A710284999_UTS_ComVis_A_April_2022.ipynb",
      "provenance": []
    }
  },
  "nbformat": 4,
  "nbformat_minor": 5
}